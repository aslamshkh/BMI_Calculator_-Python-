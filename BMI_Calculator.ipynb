{
 "cells": [
  {
   "cell_type": "markdown",
   "id": "5bcba231-60c3-4aa3-b82b-14756fdd9e9d",
   "metadata": {},
   "source": [
    "# BMI Calculator"
   ]
  },
  {
   "cell_type": "markdown",
   "id": "361cf9e0-3453-4a6d-958d-db21a237a046",
   "metadata": {},
   "source": [
    "### Source of the calculation parameters\n",
    "https://www.calculator.net/bmi-calculator.html"
   ]
  },
  {
   "cell_type": "markdown",
   "id": "805ac7de-c984-4411-bc49-a6fb863d366b",
   "metadata": {},
   "source": [
    "### Classification based on BMI"
   ]
  },
  {
   "cell_type": "code",
   "execution_count": null,
   "id": "0614baec-4b7b-4350-91c3-603613cc9d42",
   "metadata": {},
   "outputs": [],
   "source": [
    "Classification\t    BMI\n",
    "Severe Thinness\t    < 16\t\n",
    "Mild Thinness\t    17 - 18.5\n",
    "Normal\t            18.5 - 25\t\n",
    "Overweight\t        25 - 30\n",
    "Obese       \t    30 - 35"
   ]
  },
  {
   "cell_type": "markdown",
   "id": "32817258-1975-4686-b64c-6f842e563adc",
   "metadata": {},
   "source": [
    "### Code Body"
   ]
  },
  {
   "cell_type": "code",
   "execution_count": 4,
   "id": "e4dafb05-b368-451b-bb56-7dffb4cb7b07",
   "metadata": {},
   "outputs": [
    {
     "name": "stdin",
     "output_type": "stream",
     "text": [
      "Please enter your name:  Sam\n",
      "Please enter your gender:  Male\n",
      "Please enter your weight:  69\n",
      "Please enter your height:  170\n"
     ]
    },
    {
     "name": "stdout",
     "output_type": "stream",
     "text": [
      "23.87543252595156\n",
      "Sam, You are average.\n"
     ]
    }
   ],
   "source": [
    "name = input(\"Please enter your name: \")\n",
    "\n",
    "gender = input(\"Please enter your gender: \")\n",
    "\n",
    "weight = int(input(\"Please enter your weight: \"))\n",
    "\n",
    "height = int(input(\"Please enter your height: \"))\n",
    "\n",
    "height_c = (height/100)\n",
    "\n",
    "BMI = (weight) / (height_c ** 2)\n",
    "\n",
    "print(BMI)\n",
    "\n",
    "if (BMI > 0):\n",
    "    if (BMI < 16):\n",
    "        print(name + \", You are sevierly thin.\")\n",
    "    elif (BMI < 18.5):\n",
    "        print(name + \", You are thin.\")\n",
    "    elif (BMI < 25):\n",
    "        print(name + \", You are average.\")\n",
    "    elif (BMI < 30):\n",
    "        print(name + \", You are overweight.\")\n",
    "    elif (BMI < 35):\n",
    "        ptint(name + \", You are obese.\")\n",
    "else:\n",
    "    print(\"Please enter a valid input.\")"
   ]
  },
  {
   "cell_type": "code",
   "execution_count": null,
   "id": "a362af95-5cf7-4502-be08-71738379cba2",
   "metadata": {},
   "outputs": [],
   "source": []
  },
  {
   "cell_type": "markdown",
   "id": "5069eaef-dce0-46c5-95f2-181f95e3b616",
   "metadata": {},
   "source": [
    "### All the calculations"
   ]
  },
  {
   "cell_type": "code",
   "execution_count": null,
   "id": "2e134be0-ee06-4175-bfbb-e1056873910a",
   "metadata": {},
   "outputs": [],
   "source": [
    "# Used \"Input\" function to allow the users to put their \"Weight\" & \"Height\".\n",
    "\n",
    "weight = input(\"Please enter your weight: \")\n",
    "\n",
    "height = input(\"Please enter your height: \")"
   ]
  },
  {
   "cell_type": "code",
   "execution_count": null,
   "id": "32a81ff7-049c-4932-8d92-32eb6ad61011",
   "metadata": {},
   "outputs": [],
   "source": [
    "# Created a new variable converting height from CM to M as per the formula.\n",
    "\n",
    "height_c = (height/100)\n",
    "\n",
    "BMI = (weight) / (height_c ** 2)"
   ]
  },
  {
   "cell_type": "code",
   "execution_count": null,
   "id": "791b792d-c173-41c8-868b-9069c0282a0c",
   "metadata": {},
   "outputs": [],
   "source": [
    "# There was an error of \"String\" while processing the entire code. Hence, converted string to integer.\n",
    "\n",
    "weight = int(input(\"Please enter you weight: \"))\n",
    "\n",
    "height = int(input(\"Please enter you height: \"))"
   ]
  },
  {
   "cell_type": "code",
   "execution_count": null,
   "id": "25ba35bc-4355-4104-8e6c-79e3182d1f8b",
   "metadata": {},
   "outputs": [],
   "source": [
    "# Added 2 more input variables.\n",
    "\n",
    "name = input(\"Please enter your name: \")\n",
    "\n",
    "gender = input(\"Please enter your gender: \")"
   ]
  },
  {
   "cell_type": "code",
   "execution_count": null,
   "id": "7e166d8c-df7a-42dc-9e54-e17439d919e7",
   "metadata": {},
   "outputs": [],
   "source": [
    "# Used \"If, Elif, & Else\" statements to create the BMI classification.\n",
    "\n",
    "Classification\t    BMI\n",
    "Severe Thinness\t    < 16\t\n",
    "Mild Thinness\t    17 - 18.5\n",
    "Normal\t            18.5 - 25\t\n",
    "Overweight\t        25 - 30\n",
    "Obese       \t    30 - 35\n",
    "\n",
    "\n",
    "if (BMI > 0):\n",
    "    if (BMI < 16):\n",
    "        print(name + \", You are sevierly thin.\")\n",
    "    elif (BMI < 18.5):\n",
    "        print(name + \", You are thin.\")\n",
    "    elif (BMI < 25):\n",
    "        print(name + \", You are average.\")\n",
    "    elif (BMI < 30):\n",
    "        print(name + \", You are overweight.\")\n",
    "    elif (BMI < 35):\n",
    "        ptint(name + \", You are obese.\")\n",
    "else:\n",
    "    print(\"Please enter a valid input.\")"
   ]
  },
  {
   "cell_type": "code",
   "execution_count": null,
   "id": "426bb5f8-be7e-45a6-82d6-420db436e225",
   "metadata": {},
   "outputs": [],
   "source": []
  },
  {
   "cell_type": "code",
   "execution_count": null,
   "id": "14c5461c-5f7b-44b0-ba62-721a8047f10c",
   "metadata": {},
   "outputs": [],
   "source": []
  },
  {
   "cell_type": "code",
   "execution_count": null,
   "id": "d63b7c3b-8c7e-4423-b7a0-ef3977cb8184",
   "metadata": {},
   "outputs": [],
   "source": []
  },
  {
   "cell_type": "code",
   "execution_count": null,
   "id": "983ec7eb-772e-4f83-8226-33fa98e8dbb0",
   "metadata": {},
   "outputs": [],
   "source": [
    "\n"
   ]
  }
 ],
 "metadata": {
  "kernelspec": {
   "display_name": "anaconda-panel-2023.05-py310",
   "language": "python",
   "name": "conda-env-anaconda-panel-2023.05-py310-py"
  },
  "language_info": {
   "codemirror_mode": {
    "name": "ipython",
    "version": 3
   },
   "file_extension": ".py",
   "mimetype": "text/x-python",
   "name": "python",
   "nbconvert_exporter": "python",
   "pygments_lexer": "ipython3",
   "version": "3.11.5"
  }
 },
 "nbformat": 4,
 "nbformat_minor": 5
}
